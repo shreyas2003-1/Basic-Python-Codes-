{
 "cells": [
  {
   "cell_type": "markdown",
   "id": "0356d99a-a3e8-4c62-9e8a-02346000173c",
   "metadata": {},
   "source": [
    "# Check if the input is Vowel"
   ]
  },
  {
   "cell_type": "code",
   "execution_count": 7,
   "id": "7be28a84-665f-40f2-9c81-c44851309311",
   "metadata": {},
   "outputs": [
    {
     "name": "stdin",
     "output_type": "stream",
     "text": [
      " Enter user input to know if it is vowel or not q\n"
     ]
    },
    {
     "name": "stdout",
     "output_type": "stream",
     "text": [
      "not a vowel\n"
     ]
    }
   ],
   "source": [
    "user=input(\" Enter user input to know if it is vowel or not\")\n",
    "\n",
    "if (user in \"AEIOU\") or user in (\"aeiou\"):\n",
    "        print(\"Vowel\")\n",
    "else:\n",
    "    print(\"not a vowel\")\n",
    "    "
   ]
  },
  {
   "cell_type": "markdown",
   "id": "161ff83a-a45d-4f8f-b022-7d220e4b0835",
   "metadata": {},
   "source": [
    "# Area Calculator "
   ]
  },
  {
   "cell_type": "markdown",
   "id": "78bc3377-f8ad-4c85-8d81-ba028ce33cca",
   "metadata": {},
   "source": [
    "# print(***********AREA CALCULATOR***********)"
   ]
  },
  {
   "cell_type": "code",
   "execution_count": 102,
   "id": "acd93b24-1ef0-44e8-8d24-0b00c6f43df7",
   "metadata": {},
   "outputs": [
    {
     "name": "stdout",
     "output_type": "stream",
     "text": [
      "Press 1 to know Area of Circle\n",
      "Press 2 to know Area of Square\n",
      "Press 3 to know Area of Triangle\n",
      "Press 4 to know Area of Rectangle\n"
     ]
    },
    {
     "name": "stdin",
     "output_type": "stream",
     "text": [
      "Enter a number between 1 - 4 to calculate the area:  1\n",
      "Enter radius of the Circle:  2\n"
     ]
    },
    {
     "name": "stdout",
     "output_type": "stream",
     "text": [
      "The area of the Circle is 12.57\n"
     ]
    },
    {
     "name": "stdin",
     "output_type": "stream",
     "text": [
      "Do you want to try again with different values for Circle? (yes/no):  no\n",
      "Do you want to go back to the main menu? (yes/no):  no\n"
     ]
    },
    {
     "name": "stdout",
     "output_type": "stream",
     "text": [
      "Thank you for using the area calculator!\n"
     ]
    }
   ],
   "source": [
    "while True:\n",
    "    print(\"Press 1 to know Area of Circle\")\n",
    "    print(\"Press 2 to know Area of Square\")\n",
    "    print(\"Press 3 to know Area of Triangle\")\n",
    "    print(\"Press 4 to know Area of Rectangle\")\n",
    "    \n",
    "    choice = int(input(\"Enter a number between 1 - 4 to calculate the area: \"))\n",
    "\n",
    "    if choice == 1:\n",
    "        while True:\n",
    "            radius = float(input(\"Enter radius of the Circle: \"))\n",
    "            area = (22/7) * (radius ** 2)\n",
    "            print(f'The area of the Circle is {area:.2f}')\n",
    "            retry = input(\"Do you want to try again with different values for Circle? (yes/no): \").strip().lower()\n",
    "            if retry == \"no\":\n",
    "                break\n",
    "\n",
    "    elif choice == 2:\n",
    "        while True:\n",
    "            side = float(input(\"Enter one side of the Square: \"))\n",
    "            area = side ** 2\n",
    "            print(f'The area of the Square is {area:.2f}')\n",
    "            retry = input(\"Do you want to try again with different values for Square? (yes/no): \").strip().lower()\n",
    "            if retry == \"no\":\n",
    "                break\n",
    "\n",
    "    elif choice == 3:\n",
    "        while True:\n",
    "            base = float(input(\"Enter base of the Triangle: \"))\n",
    "            height = float(input(\"Enter height of the Triangle: \"))\n",
    "            area = 0.5 * base * height\n",
    "            print(f'The area of the Triangle is {area:.2f}')\n",
    "            retry = input(\"Do you want to try again with different values for Triangle? (yes/no): \").strip().lower()\n",
    "            if retry == \"no\":\n",
    "                break\n",
    "\n",
    "    elif choice == 4:  # Fixed duplicate 'elif choice == 3:' for Rectangle\n",
    "        while True:\n",
    "            length = float(input(\"Enter length of the Rectangle: \"))\n",
    "            width = float(input(\"Enter width of the Rectangle: \"))\n",
    "            area = length * width\n",
    "            print(f'The area of the Rectangle is {area:.2f}')\n",
    "            retry = input(\"Do you want to try again with different values for Rectangle? (yes/no): \").strip().lower()\n",
    "            if retry == \"no\":\n",
    "                break\n",
    "\n",
    "    else:\n",
    "        print(\"Invalid choice! Please enter a number between 1 and 4.\")\n",
    "\n",
    "    repeat1 = input(\"Do you want to go back to the main menu? (yes/no): \").strip().lower()\n",
    "    if repeat1 == \"no\":\n",
    "        print(\"Thank you for using the area calculator!\")\n",
    "        break\n"
   ]
  },
  {
   "cell_type": "markdown",
   "id": "5349e22f-0ea4-4590-843c-3694ecb8b2f2",
   "metadata": {},
   "source": [
    "# Check if the number enterd is 1 digit 2,3,4,5 digits"
   ]
  },
  {
   "cell_type": "code",
   "execution_count": 18,
   "id": "0a3078ac-59cf-4ca0-93c5-4c8f415b29ae",
   "metadata": {},
   "outputs": [
    {
     "name": "stdin",
     "output_type": "stream",
     "text": [
      "Enter a number in the 55555\n"
     ]
    },
    {
     "name": "stdout",
     "output_type": "stream",
     "text": [
      " 5 or above\n"
     ]
    }
   ],
   "source": [
    "user=int(input(\"Enter a number in the\"))\n",
    "\n",
    "if user <0:\n",
    "    print(\"NA\")\n",
    "elif user >0 and user <10:\n",
    "    print(\"1 Digits\")\n",
    "elif user >10 and user <99:\n",
    "    print(\" 2 Digits\")\n",
    "elif user >99 and user <999:\n",
    "    print(\" 3 Digits \")\n",
    "elif user >999 and user <9999:\n",
    "    print(\"4 Digits\")\n",
    "else:\n",
    "    print(\" 5 or above\")"
   ]
  },
  {
   "cell_type": "markdown",
   "id": "098385d8-77bc-4df9-b07f-e4a49c25714a",
   "metadata": {},
   "source": [
    "# Even or Odd Numbers"
   ]
  },
  {
   "cell_type": "markdown",
   "id": "2a5f3be0-b38d-41a0-b888-48a43e181c82",
   "metadata": {},
   "source": [
    "# With for loop "
   ]
  },
  {
   "cell_type": "code",
   "execution_count": 20,
   "id": "4d1d25a6-aad5-4e35-b7e9-88d0b4ffc0da",
   "metadata": {},
   "outputs": [
    {
     "name": "stdout",
     "output_type": "stream",
     "text": [
      "These are even numbers[0, 2, 4, 6, 8, 10, 12, 14, 16, 18, 20, 22, 24, 26, 28, 30, 32, 34, 36, 38, 40, 42, 44, 46, 48, 50]\n",
      "These are odd numbers[1, 3, 5, 7, 9, 11, 13, 15, 17, 19, 21, 23, 25, 27, 29, 31, 33, 35, 37, 39, 41, 43, 45, 47, 49]\n"
     ]
    }
   ],
   "source": [
    "even=[]\n",
    "odd=[]\n",
    "for i  in range(0,51):                  # 0,51 because  1 number is inclusive and 2 is exclusive \n",
    "    if i%2==0:\n",
    "        even.append(i)\n",
    "    else:\n",
    "        odd.append(i)\n",
    "print(f'These are even numbers{even}')\n",
    "print(f'These are odd numbers{odd}')"
   ]
  },
  {
   "cell_type": "markdown",
   "id": "ee3c9f6e-446a-4103-bb7f-8c218849e1b8",
   "metadata": {},
   "source": [
    "# Sum of evens "
   ]
  },
  {
   "cell_type": "code",
   "execution_count": 34,
   "id": "eb882359-4d86-401a-81f9-d8ae391fe879",
   "metadata": {},
   "outputs": [
    {
     "name": "stdout",
     "output_type": "stream",
     "text": [
      "Sum of even numbers 650\n"
     ]
    }
   ],
   "source": [
    "even=0\n",
    "for i in range(0,51):\n",
    "    if i%2==0:\n",
    "        even+=i\n",
    "print(f'Sum of even numbers {even}')"
   ]
  },
  {
   "cell_type": "markdown",
   "id": "e0d790f9-eb9d-4eeb-8801-2cf4f1ec11d4",
   "metadata": {},
   "source": [
    "# With while loop"
   ]
  },
  {
   "cell_type": "code",
   "execution_count": 22,
   "id": "650f2812-8e75-47b1-9e82-c0f05a8ac4b1",
   "metadata": {},
   "outputs": [
    {
     "name": "stdin",
     "output_type": "stream",
     "text": [
      "Enter a number (or 0 to stop):  7\n"
     ]
    },
    {
     "name": "stdout",
     "output_type": "stream",
     "text": [
      "Odd\n"
     ]
    },
    {
     "name": "stdin",
     "output_type": "stream",
     "text": [
      "Enter a number (or 0 to stop):  9\n"
     ]
    },
    {
     "name": "stdout",
     "output_type": "stream",
     "text": [
      "Odd\n"
     ]
    },
    {
     "name": "stdin",
     "output_type": "stream",
     "text": [
      "Enter a number (or 0 to stop):  0\n"
     ]
    },
    {
     "name": "stdout",
     "output_type": "stream",
     "text": [
      "Exiting program...\n"
     ]
    }
   ],
   "source": [
    "while True:\n",
    "    num = int(input(\"Enter a number (or 0 to stop): \"))\n",
    "    \n",
    "    if num == 0:  \n",
    "        print(\"Exiting program...\")\n",
    "        break  # Exit the loop when 0 is entered\n",
    "\n",
    "    if num % 2 == 0:\n",
    "        print(\"Even\")\n",
    "    else:\n",
    "        print(\"Odd\")\n"
   ]
  },
  {
   "cell_type": "code",
   "execution_count": 33,
   "id": "4bf422de-2b20-45d5-ab46-bade6c3ce7a6",
   "metadata": {},
   "outputs": [
    {
     "name": "stdin",
     "output_type": "stream",
     "text": [
      "Enter the start of the range:  5\n",
      "Enter the end of the range:  9\n"
     ]
    },
    {
     "name": "stdout",
     "output_type": "stream",
     "text": [
      "5 is Odd\n",
      "6 is Even\n",
      "7 is Odd\n",
      "8 is Even\n",
      "9 is Odd\n"
     ]
    }
   ],
   "source": [
    "start = int(input(\"Enter the start of the range: \"))\n",
    "end = int(input(\"Enter the end of the range: \"))\n",
    "\n",
    "num = start\n",
    "while num <= end:\n",
    "    if num % 2 == 0:\n",
    "        print(f\"{num} is Even\")\n",
    "    else:\n",
    "        print(f\"{num} is Odd\")\n",
    "    num += 1"
   ]
  },
  {
   "cell_type": "markdown",
   "id": "e462a257-0675-48aa-b1b4-6bd1504de08a",
   "metadata": {},
   "source": [
    "# To print Squares"
   ]
  },
  {
   "cell_type": "code",
   "execution_count": 39,
   "id": "67573ba5-32b9-4748-8ecd-8f00be4b8282",
   "metadata": {},
   "outputs": [
    {
     "name": "stdin",
     "output_type": "stream",
     "text": [
      "Enter a number to get square 8\n"
     ]
    },
    {
     "name": "stdout",
     "output_type": "stream",
     "text": [
      "8 * 8 64\n",
      "9 * 9 81\n",
      "10 * 10 100\n"
     ]
    }
   ],
   "source": [
    "num=int(input(\"Enter a number to get square\"))\n",
    "\n",
    "while num <=10:\n",
    "    print(num,\"*\",num,num*num)\n",
    "    num+=1"
   ]
  },
  {
   "cell_type": "markdown",
   "id": "bfe51098-cb2b-4c1c-b5c7-4910bd460754",
   "metadata": {},
   "source": [
    "# To Print Multiplication tables"
   ]
  },
  {
   "cell_type": "code",
   "execution_count": 9,
   "id": "a4642c10-1d02-4fe3-aec8-21c6ccb68a6c",
   "metadata": {},
   "outputs": [
    {
     "name": "stdin",
     "output_type": "stream",
     "text": [
      "Enter number to get Multiplication table 7\n"
     ]
    },
    {
     "name": "stdout",
     "output_type": "stream",
     "text": [
      "7 * 1 = 7\n",
      "7 * 2 = 14\n",
      "7 * 3 = 21\n",
      "7 * 4 = 28\n",
      "7 * 5 = 35\n",
      "7 * 6 = 42\n",
      "7 * 7 = 49\n",
      "7 * 8 = 56\n",
      "7 * 9 = 63\n",
      "7 * 10 = 70\n"
     ]
    }
   ],
   "source": [
    "t=int(input(\"Enter number to get Multiplication table\"))\n",
    "\n",
    "for i  in range(1,11):\n",
    "    print(t,\"*\",i,\"=\",i*t)\n",
    "    "
   ]
  },
  {
   "cell_type": "code",
   "execution_count": 15,
   "id": "64a04409-1cdf-4735-b8b7-00c9515cb34f",
   "metadata": {},
   "outputs": [
    {
     "name": "stdin",
     "output_type": "stream",
     "text": [
      "Enter number to get Multiplication table:  7\n"
     ]
    },
    {
     "name": "stdout",
     "output_type": "stream",
     "text": [
      "7 * 1 = 7\n",
      "7 * 2 = 14\n",
      "7 * 3 = 21\n",
      "7 * 4 = 28\n",
      "7 * 5 = 35\n",
      "7 * 6 = 42\n",
      "7 * 7 = 49\n",
      "7 * 8 = 56\n",
      "7 * 9 = 63\n",
      "7 * 10 = 70\n"
     ]
    }
   ],
   "source": [
    "vt = int(input(\"Enter number to get Multiplication table: \"))\n",
    "\n",
    "i = 1\n",
    "while i <= 10:\n",
    "    print(vt, \"*\", i, \"=\", i * vt)\n",
    "    i += 1\n"
   ]
  },
  {
   "cell_type": "markdown",
   "id": "f35a9e93-a3f6-4b14-87ad-4f0d4ac24d74",
   "metadata": {},
   "source": [
    "# While True "
   ]
  },
  {
   "cell_type": "code",
   "execution_count": 22,
   "id": "69a4bb89-c597-4103-956e-bcc92148e81c",
   "metadata": {},
   "outputs": [
    {
     "name": "stdin",
     "output_type": "stream",
     "text": [
      "Enter your number 8\n",
      "Enter your number 0\n"
     ]
    },
    {
     "name": "stdout",
     "output_type": "stream",
     "text": [
      "8\n"
     ]
    },
    {
     "name": "stdin",
     "output_type": "stream",
     "text": [
      "do you want to continue / yes or no no\n",
      "Enter your number 8\n",
      "Enter your number 0\n"
     ]
    },
    {
     "name": "stdout",
     "output_type": "stream",
     "text": [
      "8\n"
     ]
    },
    {
     "name": "stdin",
     "output_type": "stream",
     "text": [
      "do you want to continue / yes or no yes\n"
     ]
    }
   ],
   "source": [
    "while True:\n",
    "    num1=int(input(\"Enter your number\"))\n",
    "    num2=int(input(\"Enter your number\"))\n",
    "    print(num1+num2)\n",
    "    carry_on=input(\"do you want to continue / yes or no\")\n",
    "    if (carry_on == \"yes\") or (carry_on == \"YES\"):\n",
    "        break\n",
    "        "
   ]
  },
  {
   "cell_type": "markdown",
   "id": "090938bd-8d9a-41f5-817b-dfa98eccfc80",
   "metadata": {},
   "source": [
    "# Squared numbers"
   ]
  },
  {
   "cell_type": "code",
   "execution_count": 35,
   "id": "a00f2be7-d917-4457-95ab-6ca96d0f7c51",
   "metadata": {},
   "outputs": [
    {
     "name": "stdout",
     "output_type": "stream",
     "text": [
      "0 Sqaure is  = 0\n",
      "1 Sqaure is  = 1\n",
      "2 Sqaure is  = 4\n",
      "3 Sqaure is  = 9\n",
      "4 Sqaure is  = 16\n",
      "5 Sqaure is  = 25\n",
      "6 Sqaure is  = 36\n",
      "7 Sqaure is  = 49\n",
      "8 Sqaure is  = 64\n",
      "9 Sqaure is  = 81\n",
      "10 Sqaure is  = 100\n",
      "11 Sqaure is  = 121\n",
      "12 Sqaure is  = 144\n",
      "13 Sqaure is  = 169\n",
      "14 Sqaure is  = 196\n",
      "15 Sqaure is  = 225\n",
      "16 Sqaure is  = 256\n",
      "17 Sqaure is  = 289\n",
      "18 Sqaure is  = 324\n",
      "19 Sqaure is  = 361\n",
      "20 Sqaure is  = 400\n"
     ]
    }
   ],
   "source": [
    "Sqaured_nos=[]\n",
    "\n",
    "for i in range(0,21):\n",
    "    print(i,\"Sqaure is \",\"=\",i**2)"
   ]
  },
  {
   "cell_type": "markdown",
   "id": "69081f83-d5c2-464d-b1d8-3efdade5c5d3",
   "metadata": {},
   "source": [
    "# Billing System POS"
   ]
  },
  {
   "cell_type": "code",
   "execution_count": 54,
   "id": "13d9b78e-b36b-4401-8813-d193420afffe",
   "metadata": {},
   "outputs": [
    {
     "name": "stdin",
     "output_type": "stream",
     "text": [
      "Enter your name:  s\n"
     ]
    },
    {
     "name": "stdout",
     "output_type": "stream",
     "text": [
      "Enter the amount and quantity\n"
     ]
    },
    {
     "name": "stdin",
     "output_type": "stream",
     "text": [
      "Enter amount:  2\n",
      "Enter QTY:  3\n",
      "Do you want to add more items? (yes/no):  no\n"
     ]
    },
    {
     "name": "stdout",
     "output_type": "stream",
     "text": [
      "--------------------------------------------------\n",
      "Name: s\n",
      "Amount to be paid: 6.0\n",
      "**************************************************\n",
      "*********** Happy Shopping **********\n"
     ]
    },
    {
     "name": "stdin",
     "output_type": "stream",
     "text": [
      "Do you want to add a new customer? (yes/no):  no\n"
     ]
    }
   ],
   "source": [
    "while True:\n",
    "    name = input(\"Enter your name: \")\n",
    "    Grand_total = 0\n",
    "\n",
    "    while True:\n",
    "        print(\"Enter the amount and quantity\")\n",
    "        amount = float(input(\"Enter amount: \"))\n",
    "        quantity = int(input(\"Enter QTY: \"))\n",
    "        Grand_total += amount * quantity\n",
    "        \n",
    "        carry_on = input(\"Do you want to add more items? (yes/no): \").strip().lower()\n",
    "        if carry_on == \"no\":\n",
    "            break  # Exit item adding loop\n",
    "\n",
    "    print(\"-\" * 50)\n",
    "    print(\"Name:\", name)\n",
    "    print(\"Amount to be paid:\", Grand_total)\n",
    "    print(\"*\" * 50)\n",
    "    print(\"*********** Happy Shopping **********\")\n",
    "\n",
    "    carry_on = input(\"Do you want to add a new customer? (yes/no): \").strip().lower()\n",
    "    if carry_on == \"no\":\n",
    "        break  # Exit customer loop\n"
   ]
  },
  {
   "cell_type": "markdown",
   "id": "d1650c41-03a1-40b1-a198-4d7cf294b94e",
   "metadata": {},
   "source": [
    "# Logical codes"
   ]
  },
  {
   "cell_type": "markdown",
   "id": "8bc042e9-cd7b-49b8-9b9f-5a170026e9b2",
   "metadata": {},
   "source": [
    "# Armstrong number"
   ]
  },
  {
   "cell_type": "code",
   "execution_count": 63,
   "id": "6670063d-2d8e-4349-b897-b8d7ca28bb67",
   "metadata": {},
   "outputs": [
    {
     "name": "stdin",
     "output_type": "stream",
     "text": [
      "Enter the lower limit:  2000\n",
      "Enter the upper limit:  50000\n"
     ]
    },
    {
     "name": "stdout",
     "output_type": "stream",
     "text": [
      "Armstrong numbers in the given range (2000 to 50000):\n",
      "8208\n",
      "9474\n"
     ]
    }
   ],
   "source": [
    "lower = int(input(\"Enter the lower limit: \"))\n",
    "upper = int(input(\"Enter the upper limit: \"))\n",
    "\n",
    "print(f\"Armstrong numbers in the given range ({lower} to {upper}):\")\n",
    "\n",
    "for num in range(lower, upper + 1):\n",
    "    order = len(str(num))  # Number of digits in the number\n",
    "    armstrong_sum = 0\n",
    "    temp = num\n",
    "    \n",
    "    while temp > 0:\n",
    "        digit = temp % 10\n",
    "        armstrong_sum += digit ** order\n",
    "        temp //= 10\n",
    "    \n",
    "    if num == armstrong_sum:\n",
    "        print(num)  # Print only the Armstrong number\n"
   ]
  },
  {
   "cell_type": "markdown",
   "id": "f70fbb65-f33f-4554-8556-d69f426100a8",
   "metadata": {},
   "source": [
    "# Fibonacci Series "
   ]
  },
  {
   "cell_type": "code",
   "execution_count": 72,
   "id": "7b7639d5-7a2d-4ddd-814d-0d172cd6d8af",
   "metadata": {},
   "outputs": [
    {
     "name": "stdin",
     "output_type": "stream",
     "text": [
      "Enter the number > 1 20\n"
     ]
    },
    {
     "name": "stdout",
     "output_type": "stream",
     "text": [
      "0\n",
      "1\n",
      "1\n",
      "2\n",
      "3\n",
      "5\n",
      "8\n",
      "13\n",
      "21\n",
      "34\n",
      "55\n",
      "89\n",
      "144\n",
      "233\n",
      "377\n",
      "610\n",
      "987\n",
      "1597\n",
      "2584\n",
      "4181\n"
     ]
    }
   ],
   "source": [
    "a=0\n",
    "b=1\n",
    "n=int(input(\"Enter the number > 1\"))\n",
    "if n==1:\n",
    "    print(\"na\")\n",
    "else:\n",
    "    print(a)\n",
    "    print(b)\n",
    "    for i in range(2,n):\n",
    "        c=a+b\n",
    "        a=b\n",
    "        b=c\n",
    "        print(c)"
   ]
  },
  {
   "cell_type": "markdown",
   "id": "659b5e09-ac8e-45c7-b3e1-e89ebf5e6708",
   "metadata": {},
   "source": [
    "# If it is a Prime number or not"
   ]
  },
  {
   "cell_type": "code",
   "execution_count": 84,
   "id": "04b57a38-2148-4c19-a3b3-e70ed70f10ed",
   "metadata": {},
   "outputs": [
    {
     "name": "stdin",
     "output_type": "stream",
     "text": [
      "Enter a number to know if it is Prime or not 37\n"
     ]
    },
    {
     "name": "stdout",
     "output_type": "stream",
     "text": [
      "It is a Prime number\n"
     ]
    }
   ],
   "source": [
    "num=int(input(\"Enter a number to know if it is Prime or not\"))\n",
    "\n",
    "if num<=1:\n",
    "    print(\"It is not a Prime number\")\n",
    "else:\n",
    "    for  i in range(2,num):\n",
    "        if num%i==0:\n",
    "            print(\"It is not a Prime number\")\n",
    "            break\n",
    "    else:\n",
    "            print(\"It is a Prime number\")\n",
    "    "
   ]
  },
  {
   "cell_type": "markdown",
   "id": "3c0eae7e-ffac-4de2-a647-f4e1032d651a",
   "metadata": {},
   "source": [
    "# Palindrome"
   ]
  },
  {
   "cell_type": "code",
   "execution_count": 93,
   "id": "5b0b196b-d996-4414-b9e6-c18c1ebd2b0a",
   "metadata": {},
   "outputs": [
    {
     "name": "stdin",
     "output_type": "stream",
     "text": [
      "Enter a text or number to know if it is Palindrome or not 123434\n"
     ]
    },
    {
     "name": "stdout",
     "output_type": "stream",
     "text": [
      "It is not a Palindrome\n"
     ]
    }
   ],
   "source": [
    "num=int(input(\"Enter a text or number to know if it is Palindrome or not\"))\n",
    "temp=num\n",
    "rev=0\n",
    "\n",
    "while num >0:\n",
    "    digit=num%10 # To obtain the last number \n",
    "    rev=rev*10 + digit # then we * by 10 and add our digit that we obtained \n",
    "    num=num//10   # floor division \n",
    "if rev==temp:\n",
    "    print(\"It is a Palindrome\")\n",
    "else:\n",
    "    print(\"It is not a Palindrome\")\n"
   ]
  },
  {
   "cell_type": "code",
   "execution_count": 25,
   "id": "6351c226-3ceb-46fe-8649-a0c478f5d2c7",
   "metadata": {},
   "outputs": [
    {
     "name": "stdin",
     "output_type": "stream",
     "text": [
      "Enter Text to know it is a Palindrome or not simran\n"
     ]
    },
    {
     "name": "stdout",
     "output_type": "stream",
     "text": [
      "Not a Palindrome\n"
     ]
    }
   ],
   "source": [
    "user=input(\"Enter Text to know it is a Palindrome or not\")\n",
    "rev=user[::-1]\n",
    "\n",
    "if rev==user:\n",
    "    print(\"Palindrome\")\n",
    "else:\n",
    "    print(\"Not a Palindrome\")"
   ]
  },
  {
   "cell_type": "markdown",
   "id": "4dd990b2-49ff-4d7a-a6dc-b2fcada29e97",
   "metadata": {},
   "source": [
    "# Swaping the Elements"
   ]
  },
  {
   "cell_type": "code",
   "execution_count": 1,
   "id": "ba207c38-33c9-42b9-983e-d0953adc7a86",
   "metadata": {},
   "outputs": [],
   "source": [
    "l1=['Apple','Orange','Watermelon','Sapota','Guava']"
   ]
  },
  {
   "cell_type": "code",
   "execution_count": 2,
   "id": "242598e5-9b28-4e85-b60c-e171bde87743",
   "metadata": {},
   "outputs": [],
   "source": [
    "l1[1],l1[3]=l1[3],l1[1]\n",
    "l1"
   ]
  },
  {
   "cell_type": "code",
   "execution_count": 14,
   "id": "ea9236b1-a0ab-46c3-b5e0-32860ab0a108",
   "metadata": {},
   "outputs": [],
   "source": [
    "l2=[1,6,3,4,5,2,7,8]"
   ]
  },
  {
   "cell_type": "code",
   "execution_count": 15,
   "id": "c0b660e2-fabe-4ba5-8b8a-804c81a777e5",
   "metadata": {},
   "outputs": [
    {
     "data": {
      "text/plain": [
       "[1, 2, 3, 4, 5, 6, 7, 8]"
      ]
     },
     "execution_count": 15,
     "metadata": {},
     "output_type": "execute_result"
    }
   ],
   "source": [
    "l2[1],l2[5]=l2[5],l2[1]\n",
    "l2"
   ]
  },
  {
   "cell_type": "markdown",
   "id": "f0b32d64-21c0-4a31-b306-d70a7c5f27b4",
   "metadata": {},
   "source": [
    "# List comprehension "
   ]
  },
  {
   "cell_type": "code",
   "execution_count": 9,
   "id": "c28883a9-d01c-4793-98d0-a01f9358d2a8",
   "metadata": {},
   "outputs": [
    {
     "data": {
      "text/plain": [
       "['Orange']"
      ]
     },
     "execution_count": 9,
     "metadata": {},
     "output_type": "execute_result"
    }
   ],
   "source": [
    "o= [i for i in l1  if i ==\"Orange\"]\n",
    "o"
   ]
  },
  {
   "cell_type": "code",
   "execution_count": 12,
   "id": "bcfe299a-c6ef-405c-964c-7cb231f9ec31",
   "metadata": {},
   "outputs": [
    {
     "data": {
      "text/plain": [
       "['Watermelon']"
      ]
     },
     "execution_count": 12,
     "metadata": {},
     "output_type": "execute_result"
    }
   ],
   "source": [
    "w=[w for w in l1 if w ==\"Watermelon\"]\n",
    "w"
   ]
  },
  {
   "cell_type": "code",
   "execution_count": 16,
   "id": "bbf81af8-3e5a-4738-a422-c448389342bc",
   "metadata": {},
   "outputs": [
    {
     "data": {
      "text/plain": [
       "[6, 7, 8]"
      ]
     },
     "execution_count": 16,
     "metadata": {},
     "output_type": "execute_result"
    }
   ],
   "source": [
    "n=[n for n in l2 if n >5]\n",
    "n"
   ]
  },
  {
   "cell_type": "code",
   "execution_count": 19,
   "id": "4bd226cf-d84c-4dbf-9861-e5d82315ef98",
   "metadata": {},
   "outputs": [
    {
     "name": "stdout",
     "output_type": "stream",
     "text": [
      "These are the Squares of numbers in range{1: 1, 2: 4, 3: 9, 4: 16, 5: 25, 6: 36, 7: 49, 8: 64, 9: 81, 10: 100, 11: 121, 12: 144, 13: 169, 14: 196, 15: 225, 16: 256, 17: 289, 18: 324, 19: 361, 20: 400}\n"
     ]
    }
   ],
   "source": [
    "a={}\n",
    "\n",
    "for i in range(1,21):\n",
    "    a[i]= i**2\n",
    "print(f'These are the Squares of numbers in range{a}')"
   ]
  },
  {
   "cell_type": "markdown",
   "id": "5aab6425-af58-4bbc-b101-eb162b27aa0e",
   "metadata": {},
   "source": [
    "# Squareroot "
   ]
  },
  {
   "cell_type": "code",
   "execution_count": 29,
   "id": "7720463b-240b-4092-b782-b317c834473b",
   "metadata": {},
   "outputs": [
    {
     "data": {
      "text/plain": [
       "16"
      ]
     },
     "execution_count": 29,
     "metadata": {},
     "output_type": "execute_result"
    }
   ],
   "source": [
    "squareroot=lambda  s: s**2\n",
    "squareroot(4)"
   ]
  },
  {
   "cell_type": "markdown",
   "id": "7447c82b-3337-4c49-a019-78fd5b2b796c",
   "metadata": {},
   "source": [
    "# Addition"
   ]
  },
  {
   "cell_type": "code",
   "execution_count": 32,
   "id": "4a2f1834-ac6a-4266-89f1-11a59d8fb9de",
   "metadata": {},
   "outputs": [
    {
     "name": "stdout",
     "output_type": "stream",
     "text": [
      "6\n"
     ]
    }
   ],
   "source": [
    "def Addition(x,y):\n",
    "    print(x+y)\n",
    "Addition(2,4)"
   ]
  },
  {
   "cell_type": "markdown",
   "id": "d81ead68-2fe1-44c3-b7da-cdcd27c91919",
   "metadata": {},
   "source": [
    "# Multiplication"
   ]
  },
  {
   "cell_type": "code",
   "execution_count": 34,
   "id": "da54f1dd-39f8-4304-90d1-f70e781455c6",
   "metadata": {},
   "outputs": [
    {
     "name": "stdout",
     "output_type": "stream",
     "text": [
      "9\n"
     ]
    }
   ],
   "source": [
    "def Multiplication(x,y):\n",
    "    print(x*y)\n",
    "Multiplication(3,3)"
   ]
  },
  {
   "cell_type": "markdown",
   "id": "bbcbb4cd-e875-423a-a315-ed9e2207fe75",
   "metadata": {},
   "source": [
    "# Division"
   ]
  },
  {
   "cell_type": "code",
   "execution_count": 35,
   "id": "7d1b1222-63ba-4392-9b46-5a1dd6b57fdc",
   "metadata": {},
   "outputs": [
    {
     "name": "stdout",
     "output_type": "stream",
     "text": [
      "2.0\n"
     ]
    }
   ],
   "source": [
    "def division(x,y):\n",
    "    print(x/y)\n",
    "division(10,5)"
   ]
  }
 ],
 "metadata": {
  "kernelspec": {
   "display_name": "Python 3 (ipykernel)",
   "language": "python",
   "name": "python3"
  },
  "language_info": {
   "codemirror_mode": {
    "name": "ipython",
    "version": 3
   },
   "file_extension": ".py",
   "mimetype": "text/x-python",
   "name": "python",
   "nbconvert_exporter": "python",
   "pygments_lexer": "ipython3",
   "version": "3.11.7"
  }
 },
 "nbformat": 4,
 "nbformat_minor": 5
}
